{
 "cells": [
  {
   "cell_type": "markdown",
   "metadata": {},
   "source": [
    "# Creating Arrays"
   ]
  },
  {
   "cell_type": "markdown",
   "metadata": {},
   "source": [
    "## Importing Numpy"
   ]
  },
  {
   "cell_type": "code",
   "execution_count": 1,
   "metadata": {},
   "outputs": [],
   "source": [
    "import numpy as np"
   ]
  },
  {
   "cell_type": "markdown",
   "metadata": {},
   "source": [
    "<p>A key difference between an array and a list is that arrays allow you to perform vectorized operations while a list is not designed to handle vector operations. A vector operation means a function gets applied to every item in the array.</p>"
   ]
  },
  {
   "cell_type": "code",
   "execution_count": 2,
   "metadata": {},
   "outputs": [
    {
     "name": "stdout",
     "output_type": "stream",
     "text": [
      "[1 2 3]\n",
      "[2 4 6]\n",
      "[3 4 5]\n",
      "[1 4 9]\n"
     ]
    }
   ],
   "source": [
    "arr1 = np.array([1,2,3])\n",
    "print(arr1)\n",
    "\n",
    "# Vector (element-wise) operations\n",
    "print(arr1 * 2)\n",
    "print(arr1 + 2)\n",
    "print(arr1 * arr1)"
   ]
  },
  {
   "cell_type": "raw",
   "metadata": {},
   "source": [
    "# Create an integer array of length 100 filled with zeros\n",
    "np.zeros(100, dtype=int)\n",
    "\n",
    "# Create a 3x3 floating-point array filled with 1s\n",
    "np.ones((3, 3), dtype=float)\n",
    "\n",
    "# Create an array filled with a linear sequence\n",
    "# Starting at 0, ending at 20, stepping by 3\n",
    "# (this is similar to the built-in range() function)\n",
    "np.arange(0, 20, 3)\n",
    "\n",
    "# Create an array of hundred values evenly spaced between 0 and 1\n",
    "np.linspace(0, 1, 100)\n",
    "\n",
    "# Create a 3x3 array of uniformly distributed random values between 0 and 1\n",
    "np.random.random((3, 3))\n",
    "\n",
    "# Create a 3x3 array of random integers in the interval [0, 10)\n",
    "np.random.randint(0, 10, (3, 3))\n",
    "\n",
    "# Create a 3x3 array of normally distributed random values\n",
    "# with mean 0 and standard deviation 1\n",
    "np.random.normal(0, 1, (3, 3))\n",
    "\n",
    "np.random.randint(10, size=6)  # One-dimensional array of random integers\n",
    "np.random.randint(10, size=(3, 3))  # Two-dimensional array of random integers\n",
    "np.random.randint(10, size=(3, 3, 3))  # Three-dimensional array of random integers"
   ]
  },
  {
   "cell_type": "code",
   "execution_count": 3,
   "metadata": {},
   "outputs": [
    {
     "name": "stdout",
     "output_type": "stream",
     "text": [
      "[0.         0.01010101 0.02020202 0.03030303 0.04040404 0.05050505\n",
      " 0.06060606 0.07070707 0.08080808 0.09090909 0.1010101  0.11111111\n",
      " 0.12121212 0.13131313 0.14141414 0.15151515 0.16161616 0.17171717\n",
      " 0.18181818 0.19191919 0.2020202  0.21212121 0.22222222 0.23232323\n",
      " 0.24242424 0.25252525 0.26262626 0.27272727 0.28282828 0.29292929\n",
      " 0.3030303  0.31313131 0.32323232 0.33333333 0.34343434 0.35353535\n",
      " 0.36363636 0.37373737 0.38383838 0.39393939 0.4040404  0.41414141\n",
      " 0.42424242 0.43434343 0.44444444 0.45454545 0.46464646 0.47474747\n",
      " 0.48484848 0.49494949 0.50505051 0.51515152 0.52525253 0.53535354\n",
      " 0.54545455 0.55555556 0.56565657 0.57575758 0.58585859 0.5959596\n",
      " 0.60606061 0.61616162 0.62626263 0.63636364 0.64646465 0.65656566\n",
      " 0.66666667 0.67676768 0.68686869 0.6969697  0.70707071 0.71717172\n",
      " 0.72727273 0.73737374 0.74747475 0.75757576 0.76767677 0.77777778\n",
      " 0.78787879 0.7979798  0.80808081 0.81818182 0.82828283 0.83838384\n",
      " 0.84848485 0.85858586 0.86868687 0.87878788 0.88888889 0.8989899\n",
      " 0.90909091 0.91919192 0.92929293 0.93939394 0.94949495 0.95959596\n",
      " 0.96969697 0.97979798 0.98989899 1.        ]\n"
     ]
    }
   ],
   "source": [
    "arr1 = np.linspace(0,1, 100)\n",
    "print(arr1)"
   ]
  },
  {
   "cell_type": "code",
   "execution_count": 4,
   "metadata": {},
   "outputs": [
    {
     "name": "stdout",
     "output_type": "stream",
     "text": [
      "[[0.49761521 0.2491244  0.74163423]\n",
      " [0.45294283 0.44046056 0.87678196]\n",
      " [0.99719467 0.36278665 0.62794057]]\n"
     ]
    }
   ],
   "source": [
    "arr1 = np.random.random((3, 3))\n",
    "print(arr1)"
   ]
  },
  {
   "cell_type": "code",
   "execution_count": 5,
   "metadata": {},
   "outputs": [
    {
     "name": "stdout",
     "output_type": "stream",
     "text": [
      "[[6 1 1]\n",
      " [6 1 8]\n",
      " [4 2 3]]\n"
     ]
    }
   ],
   "source": [
    "arr1 = np.random.randint(0, 10, (3, 3))\n",
    "print(arr1)"
   ]
  },
  {
   "cell_type": "markdown",
   "metadata": {},
   "source": [
    "<h3>2. Array Attributes </h3>\n",
    "<p>\n",
    "Each array has the following attributes:\n",
    "\n",
    "<ul>\n",
    "<li>ndim: the number of dimensions</li>\n",
    "<li>shape: the size of each dimension</li>\n",
    "<li>size: the total size of the array</li>\n",
    "<li>dtype: the data type of the array</li>\n",
    "<li>itemsize: the size (in bytes) of each array element</li>\n",
    "<li>nbytes: the total size (in bytes) of the array</li>\n",
    "</ul>\n",
    "Run the code below and observe the output.\n",
    "</p>"
   ]
  },
  {
   "cell_type": "code",
   "execution_count": 6,
   "metadata": {},
   "outputs": [
    {
     "name": "stdout",
     "output_type": "stream",
     "text": [
      "ndim:  2\n",
      "shape: (3, 3)\n",
      "x size:  9\n",
      "dtype: int64\n",
      "itemsize: 8 bytes\n",
      "nbytes: 72 bytes\n"
     ]
    }
   ],
   "source": [
    "x = np.random.randint(0, 10, (3, 3))\n",
    "\n",
    "print(\"ndim: \", x.ndim)\n",
    "print(\"shape:\", x.shape)\n",
    "print(\"x size: \", x.size)\n",
    "print(\"dtype:\", x.dtype)\n",
    "print(\"itemsize:\", x.itemsize, \"bytes\")\n",
    "print(\"nbytes:\", x.nbytes, \"bytes\")"
   ]
  },
  {
   "cell_type": "markdown",
   "metadata": {},
   "source": [
    "# Slicing"
   ]
  },
  {
   "cell_type": "code",
   "execution_count": 9,
   "metadata": {},
   "outputs": [
    {
     "name": "stdout",
     "output_type": "stream",
     "text": [
      "[0 1 2 3 4 5 6 7 8 9]\n",
      "[0 2 4 6 8]\n"
     ]
    }
   ],
   "source": [
    "x1 = np.arange(10)\n",
    "print(x1)\n",
    "\n",
    "print(x1[::2])"
   ]
  },
  {
   "cell_type": "markdown",
   "metadata": {},
   "source": [
    "## Multidimensional slicing"
   ]
  },
  {
   "cell_type": "code",
   "execution_count": 10,
   "metadata": {},
   "outputs": [
    {
     "name": "stdout",
     "output_type": "stream",
     "text": [
      "[[0 1 2]\n",
      " [3 4 5]\n",
      " [6 7 8]]\n",
      "[[0 1]\n",
      " [3 4]]\n"
     ]
    }
   ],
   "source": [
    "x2 = np.array([[0,1,2], [3,4,5], [6,7,8]])\n",
    "print(x2)\n",
    "\n",
    "sl = x2[:2, :2] # Extract the first two rows and two columns\n",
    "print(sl)"
   ]
  },
  {
   "cell_type": "markdown",
   "metadata": {},
   "source": [
    "## Reshaping"
   ]
  },
  {
   "cell_type": "code",
   "execution_count": 12,
   "metadata": {},
   "outputs": [
    {
     "name": "stdout",
     "output_type": "stream",
     "text": [
      "[1 2 3 4 5 6 7 8 9]\n",
      "[[1 2 3]\n",
      " [4 5 6]\n",
      " [7 8 9]]\n"
     ]
    }
   ],
   "source": [
    "x3 = np.arange(1,10)\n",
    "print(x3)\n",
    "\n",
    "reshaped = x3.reshape((3,3))\n",
    "print(reshaped)"
   ]
  },
  {
   "cell_type": "code",
   "execution_count": 13,
   "metadata": {},
   "outputs": [],
   "source": [
    "grid = np.arange(16).reshape((4,4))"
   ]
  },
  {
   "cell_type": "code",
   "execution_count": 14,
   "metadata": {},
   "outputs": [
    {
     "name": "stdout",
     "output_type": "stream",
     "text": [
      "[[ 0  1  2  3]\n",
      " [ 4  5  6  7]\n",
      " [ 8  9 10 11]\n",
      " [12 13 14 15]]\n"
     ]
    }
   ],
   "source": [
    "print(grid)"
   ]
  },
  {
   "cell_type": "code",
   "execution_count": 15,
   "metadata": {},
   "outputs": [
    {
     "name": "stdout",
     "output_type": "stream",
     "text": [
      "[[0 1 2 3]\n",
      " [4 5 6 7]]\n",
      "[[ 8  9 10 11]\n",
      " [12 13 14 15]] \n",
      "\n"
     ]
    }
   ],
   "source": [
    "upper, lower = np.vsplit(grid, [2])\n",
    "print(upper)\n",
    "print(lower, '\\n')"
   ]
  },
  {
   "cell_type": "code",
   "execution_count": 16,
   "metadata": {},
   "outputs": [
    {
     "name": "stdout",
     "output_type": "stream",
     "text": [
      "[[ 0  1]\n",
      " [ 4  5]\n",
      " [ 8  9]\n",
      " [12 13]]\n",
      "[[ 2  3]\n",
      " [ 6  7]\n",
      " [10 11]\n",
      " [14 15]] \n",
      "\n"
     ]
    }
   ],
   "source": [
    "left, right = np.hsplit(grid, [2])\n",
    "print(left)\n",
    "print(right, '\\n')"
   ]
  },
  {
   "cell_type": "markdown",
   "metadata": {},
   "source": [
    "## Mathematical Functions "
   ]
  },
  {
   "cell_type": "raw",
   "metadata": {},
   "source": [
    "The arithmetic operators, as shown in the code widget below, are conveniently wrapped around specific functions built into NumPy; for example, the + operator is a wrapper for the add ufunc."
   ]
  },
  {
   "cell_type": "code",
   "execution_count": 17,
   "metadata": {},
   "outputs": [
    {
     "name": "stdout",
     "output_type": "stream",
     "text": [
      "x = [0 1 2 3 4 5 6 7 8 9]\n",
      "x + 5 = [ 5  6  7  8  9 10 11 12 13 14]\n",
      "x - 5 = [-5 -4 -3 -2 -1  0  1  2  3  4]\n",
      "x * 5 = [ 0  5 10 15 20 25 30 35 40 45]\n",
      "x / 5 = [0.  0.2 0.4 0.6 0.8 1.  1.2 1.4 1.6 1.8]\n",
      "x ** 2 =  [ 0  1  4  9 16 25 36 49 64 81]\n",
      "x % 2  =  [0 1 0 1 0 1 0 1 0 1]\n",
      "[ 5  6  7  8  9 10 11 12 13 14]\n",
      "[-5 -4 -3 -2 -1  0  1  2  3  4]\n",
      "[ 0  5 10 15 20 25 30 35 40 45]\n",
      "[0.  0.2 0.4 0.6 0.8 1.  1.2 1.4 1.6 1.8]\n",
      "[ 0  1  4  9 16 25 36 49 64 81]\n",
      "[0 1 0 1 0 1 0 1 0 1]\n"
     ]
    }
   ],
   "source": [
    "x = np.arange(10)\n",
    "\n",
    "# Native arithmentic operators\n",
    "print(\"x =\", x)\n",
    "print(\"x + 5 =\", x + 5)\n",
    "print(\"x - 5 =\", x - 5)\n",
    "print(\"x * 5 =\", x * 5)\n",
    "print(\"x / 5 =\", x / 5)\n",
    "print(\"x ** 2 = \", x ** 2)\n",
    "print(\"x % 2  = \", x % 2)\n",
    "\n",
    "# OR we can use explicit functions, ufuncs, e.g. \"add\" instead of \"+\"\n",
    "print(np.add(x, 5))\n",
    "print(np.subtract(x, 5))\n",
    "print(np.multiply(x, 5))\n",
    "print(np.divide(x, 5))\n",
    "print(np.power(x, 2))\n",
    "print(np.mod(x, 2))"
   ]
  },
  {
   "cell_type": "code",
   "execution_count": 18,
   "metadata": {},
   "outputs": [
    {
     "name": "stdout",
     "output_type": "stream",
     "text": [
      "theta      =  [0.         1.04719755 2.0943951  3.14159265]\n",
      "sin(theta) =  [0.00000000e+00 8.66025404e-01 8.66025404e-01 1.22464680e-16]\n",
      "cos(theta) =  [ 1.   0.5 -0.5 -1. ]\n",
      "tan(theta) =  [ 0.00000000e+00  1.73205081e+00 -1.73205081e+00 -1.22464680e-16]\n"
     ]
    }
   ],
   "source": [
    "theta = np.linspace(0, np.pi, 4)\n",
    "print(\"theta      = \", theta)\n",
    "print(\"sin(theta) = \", np.sin(theta))\n",
    "print(\"cos(theta) = \", np.cos(theta))\n",
    "print(\"tan(theta) = \", np.tan(theta))"
   ]
  },
  {
   "cell_type": "code",
   "execution_count": 19,
   "metadata": {},
   "outputs": [
    {
     "name": "stdout",
     "output_type": "stream",
     "text": [
      "x = [1, 2, 3]\n",
      "e^x = [ 2.71828183  7.3890561  20.08553692]\n",
      "2^x = [2. 4. 8.]\n",
      "3^x = [ 3  9 27]\n",
      "ln(x) = [0.         0.69314718 1.09861229]\n",
      "log2(x) = [0.        1.        1.5849625]\n",
      "log10(x) = [0.         0.30103    0.47712125]\n"
     ]
    }
   ],
   "source": [
    "x = [1, 2, 3]\n",
    "\n",
    "print(\"x =\", x)\n",
    "print(\"e^x =\", np.exp(x))\n",
    "print(\"2^x =\", np.exp2(x))\n",
    "print(\"3^x =\", np.power(3, x))\n",
    "\n",
    "\n",
    "print(\"ln(x) =\", np.log(x))\n",
    "print(\"log2(x) =\", np.log2(x))\n",
    "print(\"log10(x) =\", np.log10(x))"
   ]
  },
  {
   "cell_type": "code",
   "execution_count": 20,
   "metadata": {},
   "outputs": [
    {
     "name": "stdout",
     "output_type": "stream",
     "text": [
      "[[0.41993905 0.94051854 0.93509925 0.07023875]\n",
      " [0.8195245  0.12901539 0.00946666 0.31168008]\n",
      " [0.57245757 0.57236148 0.7234201  0.21817322]]\n",
      "Overall sum: 5.721894597653649\n",
      "Overall Min: 0.009466658101441983\n",
      "Column wise minimum:  [0.41993905 0.12901539 0.00946666 0.07023875]\n",
      "Row wise minimum:  [0.07023875 0.00946666 0.21817322]\n"
     ]
    }
   ],
   "source": [
    "grid = np.random.random((3, 4))\n",
    "print(grid)\n",
    "\n",
    "print(\"Overall sum:\", grid.sum())\n",
    "print(\"Overall Min:\", grid.min())\n",
    "\n",
    "# Row wise and column wise min\n",
    "print(\"Column wise minimum: \", np.amin(grid, axis=0))\n",
    "print(\"Row wise minimum: \", np.amin(grid, axis=1))"
   ]
  },
  {
   "cell_type": "markdown",
   "metadata": {},
   "source": [
    "## Comparisons and Boolean masks "
   ]
  },
  {
   "cell_type": "code",
   "execution_count": 24,
   "metadata": {},
   "outputs": [
    {
     "name": "stdout",
     "output_type": "stream",
     "text": [
      "[ True False False False False]\n",
      "[False False False  True  True]\n"
     ]
    }
   ],
   "source": [
    "x = np.array([1, 2, 3, 4, 5])\n",
    "\n",
    "print(x < 2) # less than\n",
    "print(x >= 4) # greater than or equal"
   ]
  },
  {
   "cell_type": "code",
   "execution_count": 29,
   "metadata": {},
   "outputs": [
    {
     "data": {
      "text/plain": [
       "True"
      ]
     },
     "execution_count": 29,
     "metadata": {},
     "output_type": "execute_result"
    }
   ],
   "source": [
    "np.all(x < 6)"
   ]
  },
  {
   "cell_type": "code",
   "execution_count": 31,
   "metadata": {},
   "outputs": [
    {
     "data": {
      "text/plain": [
       "2"
      ]
     },
     "execution_count": 31,
     "metadata": {},
     "output_type": "execute_result"
    }
   ],
   "source": [
    "np.count_nonzero( x % 2 == 0)"
   ]
  },
  {
   "cell_type": "code",
   "execution_count": 36,
   "metadata": {},
   "outputs": [
    {
     "name": "stdout",
     "output_type": "stream",
     "text": [
      "[[5 9 4]\n",
      " [7 1 6]\n",
      " [2 1 4]]\n",
      "\n",
      "\n",
      "[[ True False  True]\n",
      " [False  True False]\n",
      " [ True  True  True]]\n",
      "[5 4 1 2 1 4]\n"
     ]
    }
   ],
   "source": [
    "x = np.random.randint(0, 10, (3,3))\n",
    "print(x)\n",
    "print('\\n')\n",
    "print( x < 6)\n",
    "\n",
    "print(x[x < 6])"
   ]
  },
  {
   "cell_type": "code",
   "execution_count": null,
   "metadata": {},
   "outputs": [],
   "source": []
  }
 ],
 "metadata": {
  "kernelspec": {
   "display_name": "Python 3",
   "language": "python",
   "name": "python3"
  },
  "language_info": {
   "codemirror_mode": {
    "name": "ipython",
    "version": 3
   },
   "file_extension": ".py",
   "mimetype": "text/x-python",
   "name": "python",
   "nbconvert_exporter": "python",
   "pygments_lexer": "ipython3",
   "version": "3.7.6"
  }
 },
 "nbformat": 4,
 "nbformat_minor": 4
}
